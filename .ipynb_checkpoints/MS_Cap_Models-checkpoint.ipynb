{
 "cells": [
  {
   "cell_type": "code",
   "execution_count": 2,
   "metadata": {},
   "outputs": [
    {
     "data": {
      "text/html": [
       "<script>\n",
       "code_show_err=false; \n",
       "function code_toggle_err() {\n",
       " if (code_show_err){\n",
       " $('div.output_stderr').hide();\n",
       " } else {\n",
       " $('div.output_stderr').show();\n",
       " }\n",
       " code_show_err = !code_show_err\n",
       "} \n",
       "$( document ).ready(code_toggle_err);\n",
       "</script>\n",
       "To toggle on/off output_stderr, click <a href=\"javascript:code_toggle_err()\">here</a>."
      ],
      "text/plain": [
       "<IPython.core.display.HTML object>"
      ]
     },
     "execution_count": 2,
     "metadata": {},
     "output_type": "execute_result"
    }
   ],
   "source": [
    "from IPython.display import HTML\n",
    "HTML('''<script>\n",
    "code_show_err=false; \n",
    "function code_toggle_err() {\n",
    " if (code_show_err){\n",
    " $('div.output_stderr').hide();\n",
    " } else {\n",
    " $('div.output_stderr').show();\n",
    " }\n",
    " code_show_err = !code_show_err\n",
    "} \n",
    "$( document ).ready(code_toggle_err);\n",
    "</script>\n",
    "To toggle on/off output_stderr, click <a href=\"javascript:code_toggle_err()\">here</a>.''')"
   ]
  },
  {
   "cell_type": "code",
   "execution_count": 3,
   "metadata": {},
   "outputs": [],
   "source": [
    "import warnings\n",
    "warnings.filterwarnings('ignore')\n",
    "%matplotlib inline"
   ]
  },
  {
   "cell_type": "code",
   "execution_count": 4,
   "metadata": {},
   "outputs": [],
   "source": [
    "import pandas as pd\n",
    "import matplotlib.pyplot as plt\n",
    "plt.style.use('seaborn')\n",
    "from scipy.stats import norm, skew\n",
    "import numpy as np\n",
    "import seaborn as sns\n",
    "from sklearn.metrics import f1_score, log_loss\n",
    "from sklearn import metrics\n",
    "from sklearn.model_selection import KFold, cross_val_score, train_test_split, GroupKFold, RepeatedKFold\n",
    "from sklearn.preprocessing import RobustScaler, MinMaxScaler\n",
    "from sklearn import model_selection\n",
    "from sklearn.naive_bayes import BernoulliNB\n",
    "from sklearn.svm import LinearSVC\n",
    "\n",
    "SEED = 4321\n",
    "np.random.seed(SEED)"
   ]
  },
  {
   "cell_type": "code",
   "execution_count": 5,
   "metadata": {},
   "outputs": [
    {
     "name": "stderr",
     "output_type": "stream",
     "text": [
      "Using TensorFlow backend.\n"
     ]
    }
   ],
   "source": [
    "#Models\n",
    "\n",
    "from catboost import CatBoostClassifier\n",
    "import lightgbm as lgb\n",
    "from xgboost import XGBClassifier\n",
    "from sklearn.ensemble import RandomForestClassifier, ExtraTreesClassifier\n",
    "from sklearn.ensemble import VotingClassifier\n",
    "from sklearn.linear_model import LogisticRegression, RidgeClassifier\n",
    "from sklearn.neighbors import KNeighborsClassifier\n",
    "from sklearn.ensemble import BaggingClassifier\n",
    "from sklearn.linear_model import LogisticRegression\n",
    "from sklearn.ensemble import AdaBoostClassifier\n",
    "from sklearn.ensemble import GradientBoostingClassifier\n",
    "from sklearn.neural_network import MLPClassifier\n",
    "from sklearn.discriminant_analysis import LinearDiscriminantAnalysis\n",
    "\n",
    "#Keras\n",
    "from keras.layers import Dense,Input,LSTM,Bidirectional,Activation,Conv1D,GRU\n",
    "from keras.callbacks import Callback\n",
    "from keras.layers import Dropout,Embedding,GlobalMaxPooling1D, MaxPooling1D, Add, Flatten\n",
    "from keras.preprocessing import text, sequence\n",
    "from keras.layers import GlobalAveragePooling1D, GlobalMaxPooling1D, concatenate, SpatialDropout1D\n",
    "from keras import initializers, regularizers, constraints, optimizers, layers, callbacks\n",
    "from keras.callbacks import EarlyStopping,ModelCheckpoint\n",
    "from keras.models import Model\n",
    "from keras.optimizers import Adam"
   ]
  },
  {
   "cell_type": "markdown",
   "metadata": {},
   "source": [
    "### Data"
   ]
  },
  {
   "cell_type": "code",
   "execution_count": 6,
   "metadata": {},
   "outputs": [
    {
     "name": "stdout",
     "output_type": "stream",
     "text": [
      "(10000, 1343) (10000, 1343) (10000,)\n"
     ]
    }
   ],
   "source": [
    "#Data\n",
    "\n",
    "#X = pd.read_feather(r'C:\\Users\\user\\Desktop\\Microsoft Cert\\CAPSTONE\\feathers\\X_1.feather')\n",
    "#test = pd.read_feather(r'C:\\Users\\user\\Desktop\\Microsoft Cert\\CAPSTONE\\feathers\\test_1.feather')\n",
    "\n",
    "#X = pd.read_csv(r'C:\\Users\\user\\Desktop\\Microsoft Cert\\CAPSTONE\\feathers\\X_2.csv')\n",
    "#test = pd.read_csv(r'C:\\Users\\user\\Desktop\\Microsoft Cert\\CAPSTONE\\feathers\\test_2.csv')\n",
    "\n",
    "#smaller data\n",
    "X_old = pd.read_feather(r'C:\\Users\\user\\Desktop\\Microsoft Cert\\CAPSTONE\\feathers\\train_small_dummies.feather')\n",
    "test_old = pd.read_feather(r'C:\\Users\\user\\Desktop\\Microsoft Cert\\CAPSTONE\\feathers\\test_small_dummies.feather')\n",
    "\n",
    "#big data level 1\n",
    "X = pd.read_feather(r'C:\\Users\\user\\Desktop\\Microsoft Cert\\CAPSTONE\\feathers\\X_2_big.feather')\n",
    "test = pd.read_feather(r'C:\\Users\\user\\Desktop\\Microsoft Cert\\CAPSTONE\\feathers\\test_2_big.feather')\n",
    "\n",
    "\n",
    "y_df = pd.read_csv( r\"C:\\Users\\user\\Desktop\\Microsoft Cert\\CAPSTONE\\Data\\train_labels.csv\")\n",
    "y = y_df['damage_grade']\n",
    "\n",
    "test_orig = pd.read_csv(r\"C:\\Users\\user\\Desktop\\Microsoft Cert\\CAPSTONE\\Data\\test_values.csv\")\n",
    "\n",
    "print(X.shape, test.shape, y.shape)"
   ]
  },
  {
   "cell_type": "code",
   "execution_count": 7,
   "metadata": {},
   "outputs": [
    {
     "data": {
      "text/html": [
       "<div>\n",
       "<style scoped>\n",
       "    .dataframe tbody tr th:only-of-type {\n",
       "        vertical-align: middle;\n",
       "    }\n",
       "\n",
       "    .dataframe tbody tr th {\n",
       "        vertical-align: top;\n",
       "    }\n",
       "\n",
       "    .dataframe thead th {\n",
       "        text-align: right;\n",
       "    }\n",
       "</style>\n",
       "<table border=\"1\" class=\"dataframe\">\n",
       "  <thead>\n",
       "    <tr style=\"text-align: right;\">\n",
       "      <th></th>\n",
       "      <th>age</th>\n",
       "      <th>area</th>\n",
       "      <th>height</th>\n",
       "      <th>has_superstructure_adobe_mud</th>\n",
       "      <th>has_superstructure_mud_mortar_stone</th>\n",
       "      <th>has_superstructure_stone_flag</th>\n",
       "      <th>has_superstructure_cement_mortar_stone</th>\n",
       "      <th>has_superstructure_mud_mortar_brick</th>\n",
       "      <th>has_superstructure_cement_mortar_brick</th>\n",
       "      <th>has_superstructure_timber</th>\n",
       "      <th>...</th>\n",
       "      <th>plan_configuration_8</th>\n",
       "      <th>plan_configuration_9</th>\n",
       "      <th>legal_ownership_status_1</th>\n",
       "      <th>legal_ownership_status_2</th>\n",
       "      <th>legal_ownership_status_3</th>\n",
       "      <th>legal_ownership_status_4</th>\n",
       "      <th>rid_2</th>\n",
       "      <th>svc_2</th>\n",
       "      <th>bag_2</th>\n",
       "      <th>log_2</th>\n",
       "    </tr>\n",
       "  </thead>\n",
       "  <tbody>\n",
       "    <tr>\n",
       "      <th>0</th>\n",
       "      <td>6.724835</td>\n",
       "      <td>2.715460</td>\n",
       "      <td>1.897538</td>\n",
       "      <td>0.0</td>\n",
       "      <td>1</td>\n",
       "      <td>0.0</td>\n",
       "      <td>0.0</td>\n",
       "      <td>0.0</td>\n",
       "      <td>0.0</td>\n",
       "      <td>0.0</td>\n",
       "      <td>...</td>\n",
       "      <td>0</td>\n",
       "      <td>0</td>\n",
       "      <td>0</td>\n",
       "      <td>0</td>\n",
       "      <td>1</td>\n",
       "      <td>0</td>\n",
       "      <td>2.0</td>\n",
       "      <td>2.0</td>\n",
       "      <td>2.0</td>\n",
       "      <td>2.0</td>\n",
       "    </tr>\n",
       "    <tr>\n",
       "      <th>1</th>\n",
       "      <td>5.092307</td>\n",
       "      <td>2.622315</td>\n",
       "      <td>2.153435</td>\n",
       "      <td>0.0</td>\n",
       "      <td>1</td>\n",
       "      <td>0.0</td>\n",
       "      <td>0.0</td>\n",
       "      <td>0.0</td>\n",
       "      <td>0.0</td>\n",
       "      <td>0.0</td>\n",
       "      <td>...</td>\n",
       "      <td>0</td>\n",
       "      <td>0</td>\n",
       "      <td>0</td>\n",
       "      <td>0</td>\n",
       "      <td>1</td>\n",
       "      <td>0</td>\n",
       "      <td>3.0</td>\n",
       "      <td>3.0</td>\n",
       "      <td>3.0</td>\n",
       "      <td>3.0</td>\n",
       "    </tr>\n",
       "    <tr>\n",
       "      <th>2</th>\n",
       "      <td>5.967348</td>\n",
       "      <td>2.779238</td>\n",
       "      <td>1.228172</td>\n",
       "      <td>0.0</td>\n",
       "      <td>1</td>\n",
       "      <td>0.0</td>\n",
       "      <td>0.0</td>\n",
       "      <td>1.5</td>\n",
       "      <td>0.0</td>\n",
       "      <td>0.0</td>\n",
       "      <td>...</td>\n",
       "      <td>0</td>\n",
       "      <td>0</td>\n",
       "      <td>0</td>\n",
       "      <td>0</td>\n",
       "      <td>1</td>\n",
       "      <td>0</td>\n",
       "      <td>2.0</td>\n",
       "      <td>2.0</td>\n",
       "      <td>2.0</td>\n",
       "      <td>2.0</td>\n",
       "    </tr>\n",
       "    <tr>\n",
       "      <th>3</th>\n",
       "      <td>2.623510</td>\n",
       "      <td>2.363217</td>\n",
       "      <td>1.596741</td>\n",
       "      <td>0.0</td>\n",
       "      <td>1</td>\n",
       "      <td>0.0</td>\n",
       "      <td>0.0</td>\n",
       "      <td>0.0</td>\n",
       "      <td>0.0</td>\n",
       "      <td>0.0</td>\n",
       "      <td>...</td>\n",
       "      <td>0</td>\n",
       "      <td>0</td>\n",
       "      <td>0</td>\n",
       "      <td>0</td>\n",
       "      <td>1</td>\n",
       "      <td>0</td>\n",
       "      <td>2.0</td>\n",
       "      <td>2.0</td>\n",
       "      <td>2.0</td>\n",
       "      <td>2.0</td>\n",
       "    </tr>\n",
       "    <tr>\n",
       "      <th>4</th>\n",
       "      <td>0.000000</td>\n",
       "      <td>2.808281</td>\n",
       "      <td>2.377167</td>\n",
       "      <td>0.0</td>\n",
       "      <td>1</td>\n",
       "      <td>0.0</td>\n",
       "      <td>0.0</td>\n",
       "      <td>0.0</td>\n",
       "      <td>0.0</td>\n",
       "      <td>0.0</td>\n",
       "      <td>...</td>\n",
       "      <td>0</td>\n",
       "      <td>0</td>\n",
       "      <td>0</td>\n",
       "      <td>0</td>\n",
       "      <td>1</td>\n",
       "      <td>0</td>\n",
       "      <td>2.0</td>\n",
       "      <td>2.0</td>\n",
       "      <td>2.0</td>\n",
       "      <td>2.0</td>\n",
       "    </tr>\n",
       "  </tbody>\n",
       "</table>\n",
       "<p>5 rows × 1343 columns</p>\n",
       "</div>"
      ],
      "text/plain": [
       "        age      area    height  has_superstructure_adobe_mud  \\\n",
       "0  6.724835  2.715460  1.897538                           0.0   \n",
       "1  5.092307  2.622315  2.153435                           0.0   \n",
       "2  5.967348  2.779238  1.228172                           0.0   \n",
       "3  2.623510  2.363217  1.596741                           0.0   \n",
       "4  0.000000  2.808281  2.377167                           0.0   \n",
       "\n",
       "   has_superstructure_mud_mortar_stone  has_superstructure_stone_flag  \\\n",
       "0                                    1                            0.0   \n",
       "1                                    1                            0.0   \n",
       "2                                    1                            0.0   \n",
       "3                                    1                            0.0   \n",
       "4                                    1                            0.0   \n",
       "\n",
       "   has_superstructure_cement_mortar_stone  \\\n",
       "0                                     0.0   \n",
       "1                                     0.0   \n",
       "2                                     0.0   \n",
       "3                                     0.0   \n",
       "4                                     0.0   \n",
       "\n",
       "   has_superstructure_mud_mortar_brick  \\\n",
       "0                                  0.0   \n",
       "1                                  0.0   \n",
       "2                                  1.5   \n",
       "3                                  0.0   \n",
       "4                                  0.0   \n",
       "\n",
       "   has_superstructure_cement_mortar_brick  has_superstructure_timber  ...    \\\n",
       "0                                     0.0                        0.0  ...     \n",
       "1                                     0.0                        0.0  ...     \n",
       "2                                     0.0                        0.0  ...     \n",
       "3                                     0.0                        0.0  ...     \n",
       "4                                     0.0                        0.0  ...     \n",
       "\n",
       "   plan_configuration_8  plan_configuration_9  legal_ownership_status_1  \\\n",
       "0                     0                     0                         0   \n",
       "1                     0                     0                         0   \n",
       "2                     0                     0                         0   \n",
       "3                     0                     0                         0   \n",
       "4                     0                     0                         0   \n",
       "\n",
       "   legal_ownership_status_2  legal_ownership_status_3  \\\n",
       "0                         0                         1   \n",
       "1                         0                         1   \n",
       "2                         0                         1   \n",
       "3                         0                         1   \n",
       "4                         0                         1   \n",
       "\n",
       "   legal_ownership_status_4  rid_2  svc_2  bag_2  log_2  \n",
       "0                         0    2.0    2.0    2.0    2.0  \n",
       "1                         0    3.0    3.0    3.0    3.0  \n",
       "2                         0    2.0    2.0    2.0    2.0  \n",
       "3                         0    2.0    2.0    2.0    2.0  \n",
       "4                         0    2.0    2.0    2.0    2.0  \n",
       "\n",
       "[5 rows x 1343 columns]"
      ]
     },
     "execution_count": 7,
     "metadata": {},
     "output_type": "execute_result"
    }
   ],
   "source": [
    "X.head()"
   ]
  },
  {
   "cell_type": "markdown",
   "metadata": {},
   "source": [
    "X_raw = pd.read_csv(r\"C:\\Users\\user\\Desktop\\Microsoft Cert\\CAPSTONE\\Data\\train_values.csv\")\n",
    "sns.distplot(X_raw.geo_level_2_id, kde=False, fit = norm)"
   ]
  },
  {
   "cell_type": "markdown",
   "metadata": {},
   "source": [
    "plt.figure(figsize=(15,5))\n",
    "ax = sns.boxplot(data = X_raw.geo_level_2_id, orient = 'h')"
   ]
  },
  {
   "cell_type": "code",
   "execution_count": 584,
   "metadata": {},
   "outputs": [
    {
     "data": {
      "text/html": [
       "<div>\n",
       "<style scoped>\n",
       "    .dataframe tbody tr th:only-of-type {\n",
       "        vertical-align: middle;\n",
       "    }\n",
       "\n",
       "    .dataframe tbody tr th {\n",
       "        vertical-align: top;\n",
       "    }\n",
       "\n",
       "    .dataframe thead th {\n",
       "        text-align: right;\n",
       "    }\n",
       "</style>\n",
       "<table border=\"1\" class=\"dataframe\">\n",
       "  <thead>\n",
       "    <tr style=\"text-align: right;\">\n",
       "      <th></th>\n",
       "      <th>geo_level_2_id</th>\n",
       "      <th>age</th>\n",
       "      <th>area</th>\n",
       "      <th>height</th>\n",
       "      <th>has_superstructure_adobe_mud</th>\n",
       "      <th>has_superstructure_mud_mortar_stone</th>\n",
       "      <th>has_superstructure_stone_flag</th>\n",
       "      <th>has_superstructure_cement_mortar_stone</th>\n",
       "      <th>has_superstructure_mud_mortar_brick</th>\n",
       "      <th>has_superstructure_cement_mortar_brick</th>\n",
       "      <th>...</th>\n",
       "      <th>plan_configuration_4</th>\n",
       "      <th>plan_configuration_5</th>\n",
       "      <th>plan_configuration_6</th>\n",
       "      <th>plan_configuration_7</th>\n",
       "      <th>plan_configuration_8</th>\n",
       "      <th>plan_configuration_9</th>\n",
       "      <th>legal_ownership_status_1</th>\n",
       "      <th>legal_ownership_status_2</th>\n",
       "      <th>legal_ownership_status_3</th>\n",
       "      <th>legal_ownership_status_4</th>\n",
       "    </tr>\n",
       "  </thead>\n",
       "  <tbody>\n",
       "    <tr>\n",
       "      <th>0</th>\n",
       "      <td>24.133623</td>\n",
       "      <td>6.724835</td>\n",
       "      <td>2.715460</td>\n",
       "      <td>1.897538</td>\n",
       "      <td>0.0</td>\n",
       "      <td>1</td>\n",
       "      <td>0.0</td>\n",
       "      <td>0.0</td>\n",
       "      <td>0.0</td>\n",
       "      <td>0.0</td>\n",
       "      <td>...</td>\n",
       "      <td>0</td>\n",
       "      <td>0</td>\n",
       "      <td>0</td>\n",
       "      <td>1</td>\n",
       "      <td>0</td>\n",
       "      <td>0</td>\n",
       "      <td>0</td>\n",
       "      <td>0</td>\n",
       "      <td>1</td>\n",
       "      <td>0</td>\n",
       "    </tr>\n",
       "    <tr>\n",
       "      <th>1</th>\n",
       "      <td>19.189912</td>\n",
       "      <td>5.092307</td>\n",
       "      <td>2.622315</td>\n",
       "      <td>2.153435</td>\n",
       "      <td>0.0</td>\n",
       "      <td>1</td>\n",
       "      <td>0.0</td>\n",
       "      <td>0.0</td>\n",
       "      <td>0.0</td>\n",
       "      <td>0.0</td>\n",
       "      <td>...</td>\n",
       "      <td>0</td>\n",
       "      <td>0</td>\n",
       "      <td>0</td>\n",
       "      <td>1</td>\n",
       "      <td>0</td>\n",
       "      <td>0</td>\n",
       "      <td>0</td>\n",
       "      <td>0</td>\n",
       "      <td>1</td>\n",
       "      <td>0</td>\n",
       "    </tr>\n",
       "    <tr>\n",
       "      <th>2</th>\n",
       "      <td>7.554631</td>\n",
       "      <td>5.967348</td>\n",
       "      <td>2.779238</td>\n",
       "      <td>1.228172</td>\n",
       "      <td>0.0</td>\n",
       "      <td>1</td>\n",
       "      <td>0.0</td>\n",
       "      <td>0.0</td>\n",
       "      <td>1.5</td>\n",
       "      <td>0.0</td>\n",
       "      <td>...</td>\n",
       "      <td>0</td>\n",
       "      <td>0</td>\n",
       "      <td>1</td>\n",
       "      <td>0</td>\n",
       "      <td>0</td>\n",
       "      <td>0</td>\n",
       "      <td>0</td>\n",
       "      <td>0</td>\n",
       "      <td>1</td>\n",
       "      <td>0</td>\n",
       "    </tr>\n",
       "    <tr>\n",
       "      <th>3</th>\n",
       "      <td>11.054557</td>\n",
       "      <td>2.623510</td>\n",
       "      <td>2.363217</td>\n",
       "      <td>1.596741</td>\n",
       "      <td>0.0</td>\n",
       "      <td>1</td>\n",
       "      <td>0.0</td>\n",
       "      <td>0.0</td>\n",
       "      <td>0.0</td>\n",
       "      <td>0.0</td>\n",
       "      <td>...</td>\n",
       "      <td>0</td>\n",
       "      <td>0</td>\n",
       "      <td>0</td>\n",
       "      <td>1</td>\n",
       "      <td>0</td>\n",
       "      <td>0</td>\n",
       "      <td>0</td>\n",
       "      <td>0</td>\n",
       "      <td>1</td>\n",
       "      <td>0</td>\n",
       "    </tr>\n",
       "    <tr>\n",
       "      <th>4</th>\n",
       "      <td>21.538664</td>\n",
       "      <td>0.000000</td>\n",
       "      <td>2.808281</td>\n",
       "      <td>2.377167</td>\n",
       "      <td>0.0</td>\n",
       "      <td>1</td>\n",
       "      <td>0.0</td>\n",
       "      <td>0.0</td>\n",
       "      <td>0.0</td>\n",
       "      <td>0.0</td>\n",
       "      <td>...</td>\n",
       "      <td>0</td>\n",
       "      <td>0</td>\n",
       "      <td>0</td>\n",
       "      <td>1</td>\n",
       "      <td>0</td>\n",
       "      <td>0</td>\n",
       "      <td>0</td>\n",
       "      <td>0</td>\n",
       "      <td>1</td>\n",
       "      <td>0</td>\n",
       "    </tr>\n",
       "  </tbody>\n",
       "</table>\n",
       "<p>5 rows × 100 columns</p>\n",
       "</div>"
      ],
      "text/plain": [
       "   geo_level_2_id       age      area    height  has_superstructure_adobe_mud  \\\n",
       "0       24.133623  6.724835  2.715460  1.897538                           0.0   \n",
       "1       19.189912  5.092307  2.622315  2.153435                           0.0   \n",
       "2        7.554631  5.967348  2.779238  1.228172                           0.0   \n",
       "3       11.054557  2.623510  2.363217  1.596741                           0.0   \n",
       "4       21.538664  0.000000  2.808281  2.377167                           0.0   \n",
       "\n",
       "   has_superstructure_mud_mortar_stone  has_superstructure_stone_flag  \\\n",
       "0                                    1                            0.0   \n",
       "1                                    1                            0.0   \n",
       "2                                    1                            0.0   \n",
       "3                                    1                            0.0   \n",
       "4                                    1                            0.0   \n",
       "\n",
       "   has_superstructure_cement_mortar_stone  \\\n",
       "0                                     0.0   \n",
       "1                                     0.0   \n",
       "2                                     0.0   \n",
       "3                                     0.0   \n",
       "4                                     0.0   \n",
       "\n",
       "   has_superstructure_mud_mortar_brick  \\\n",
       "0                                  0.0   \n",
       "1                                  0.0   \n",
       "2                                  1.5   \n",
       "3                                  0.0   \n",
       "4                                  0.0   \n",
       "\n",
       "   has_superstructure_cement_mortar_brick            ...             \\\n",
       "0                                     0.0            ...              \n",
       "1                                     0.0            ...              \n",
       "2                                     0.0            ...              \n",
       "3                                     0.0            ...              \n",
       "4                                     0.0            ...              \n",
       "\n",
       "   plan_configuration_4  plan_configuration_5  plan_configuration_6  \\\n",
       "0                     0                     0                     0   \n",
       "1                     0                     0                     0   \n",
       "2                     0                     0                     1   \n",
       "3                     0                     0                     0   \n",
       "4                     0                     0                     0   \n",
       "\n",
       "   plan_configuration_7  plan_configuration_8  plan_configuration_9  \\\n",
       "0                     1                     0                     0   \n",
       "1                     1                     0                     0   \n",
       "2                     0                     0                     0   \n",
       "3                     1                     0                     0   \n",
       "4                     1                     0                     0   \n",
       "\n",
       "   legal_ownership_status_1  legal_ownership_status_2  \\\n",
       "0                         0                         0   \n",
       "1                         0                         0   \n",
       "2                         0                         0   \n",
       "3                         0                         0   \n",
       "4                         0                         0   \n",
       "\n",
       "   legal_ownership_status_3  legal_ownership_status_4  \n",
       "0                         1                         0  \n",
       "1                         1                         0  \n",
       "2                         1                         0  \n",
       "3                         1                         0  \n",
       "4                         1                         0  \n",
       "\n",
       "[5 rows x 100 columns]"
      ]
     },
     "execution_count": 584,
     "metadata": {},
     "output_type": "execute_result"
    }
   ],
   "source": [
    "X_old.head()"
   ]
  },
  {
   "cell_type": "markdown",
   "metadata": {},
   "source": [
    "test.head().transpose()"
   ]
  },
  {
   "cell_type": "markdown",
   "metadata": {},
   "source": [
    "# Data Reduction"
   ]
  },
  {
   "cell_type": "code",
   "execution_count": 657,
   "metadata": {},
   "outputs": [],
   "source": [
    "X_preds = X[[  'log_2', 'rid_2', 'svc_2', 'bag_2']]  # 'bag_2','area','age', ,  'height'"
   ]
  },
  {
   "cell_type": "code",
   "execution_count": 658,
   "metadata": {},
   "outputs": [],
   "source": [
    "test_preds = test[[  'log_2',  'rid_2', 'svc_2', 'bag_2']] #'bag_2', 'area',,   'height''age',"
   ]
  },
  {
   "cell_type": "markdown",
   "metadata": {},
   "source": [
    "X_old = pd.DataFrame(X_old.drop(['geo_level_2_id'], axis = 1))\n",
    "test_old = pd.DataFrrame(test_old.drop(['geo_level_2_id'], axis = 1))"
   ]
  },
  {
   "cell_type": "code",
   "execution_count": 672,
   "metadata": {},
   "outputs": [
    {
     "data": {
      "text/plain": [
       "(10000, 104)"
      ]
     },
     "execution_count": 672,
     "metadata": {},
     "output_type": "execute_result"
    }
   ],
   "source": [
    "\n",
    "X = pd.DataFrame(np.concatenate([X_old, X_preds], axis = 1))\n",
    "\n",
    "X.shape"
   ]
  },
  {
   "cell_type": "code",
   "execution_count": 673,
   "metadata": {},
   "outputs": [
    {
     "data": {
      "text/plain": [
       "(10000, 104)"
      ]
     },
     "execution_count": 673,
     "metadata": {},
     "output_type": "execute_result"
    }
   ],
   "source": [
    "\n",
    "test = pd.DataFrame(np.concatenate([test_old, test_preds], axis = 1))\n",
    "\n",
    "test.shape  # 103"
   ]
  },
  {
   "cell_type": "markdown",
   "metadata": {},
   "source": [
    "X    = X.drop(['geo_level_2_id'], axis = 1)\n",
    "test = test.drop(['geo_level_2_id'], axis = 1)"
   ]
  },
  {
   "cell_type": "markdown",
   "metadata": {},
   "source": [
    "X= X[small_cols].copy()"
   ]
  },
  {
   "cell_type": "markdown",
   "metadata": {},
   "source": [
    "X.head().transpose()"
   ]
  },
  {
   "cell_type": "code",
   "execution_count": 589,
   "metadata": {},
   "outputs": [
    {
     "data": {
      "text/plain": [
       "(10000, 104)"
      ]
     },
     "execution_count": 589,
     "metadata": {},
     "output_type": "execute_result"
    }
   ],
   "source": [
    "X.shape"
   ]
  },
  {
   "cell_type": "markdown",
   "metadata": {},
   "source": [
    "X = X.drop([ 'has_secondary_use_use_police', 'has_secondary_use_gov_office', 'has_secondary_use_health_post',\n",
    "                                'has_secondary_use_school', 'has_secondary_use_institution', 'has_secondary_use_industry',\n",
    "                                'has_secondary_use_other', 'has_secondary_use_rental', 'has_superstructure_rc_engineered',\n",
    "                                'has_superstructure_other', 'has_superstructure_cement_mortar_stone', 'has_superstructure_stone_flag',\n",
    "                                'has_secondary_use_hotel', 'has_superstructure_rc_non_engineered', 'has_secondary_use_agriculture',\n",
    "                                'has_superstructure_mud_mortar_brick', 'has_superstructure_bamboo', 'has_superstructure_adobe_mud',\n",
    "                                ], axis=1) #'geo_level_2_id', 'geo_level_3_id'"
   ]
  },
  {
   "cell_type": "markdown",
   "metadata": {},
   "source": [
    "#Predictions only\n",
    "X = X[['gbc1', 'catz1', 'rfc1', 'xgb21', 'lgb21', 'abc_2', 'log2', 'rfc_2', 'xgb_2', 'bag2_2', 'lgb2_2']]\n",
    "X.head()"
   ]
  },
  {
   "cell_type": "markdown",
   "metadata": {},
   "source": [
    "#Predictions only\n",
    "test = test[['gbc1', 'catz1', 'rfc1', 'xgb21', 'lgb21', 'abc_2', 'log2', 'rfc_2', 'xgb_2', 'bag2_2']]\n",
    "test.head()"
   ]
  },
  {
   "cell_type": "markdown",
   "metadata": {},
   "source": [
    "#PRedictions only\n",
    "X = X[['log2', 'rfc_2', 'xgb_2',  'lgb2_2']]  #'abc_2', 'bag2_2',\n",
    "X.head()"
   ]
  },
  {
   "cell_type": "markdown",
   "metadata": {},
   "source": [
    "#PRedictions only\n",
    "test = test[['log2', 'rfc_2', 'xgb_2',  'lgb2_2']]  #'abc_2', 'bag2_2',\n",
    "test.head()"
   ]
  },
  {
   "cell_type": "markdown",
   "metadata": {},
   "source": [
    "X['bago'] = X_old['bag1']\n",
    "X['lgbo'] = X_old['lgb1']\n",
    "X['xgbo'] = X_old['xgb1']\n",
    "X['rfco'] = X_old['rfc1']\n",
    "X['cato'] = X_old['cat1']\n",
    "X['catbo'] = X_old['catb1']\n",
    "X['gbco'] = X_old['gbc1']\n",
    "X.head()"
   ]
  },
  {
   "cell_type": "markdown",
   "metadata": {},
   "source": [
    "test['bago'] = test_old['bag1']\n",
    "test['lgbo'] = test_old['lgb1']\n",
    "test['xgbo'] = test_old['xgb1']\n",
    "test['rfco'] = test_old['rfc1']\n",
    "test['cato'] = test_old['cat1']\n",
    "test['catbo'] = test_old['catb1']\n",
    "test['gbco'] = test_old['gbc1']\n",
    "test.head()"
   ]
  },
  {
   "cell_type": "markdown",
   "metadata": {},
   "source": [
    "X_old.head()"
   ]
  },
  {
   "cell_type": "markdown",
   "metadata": {},
   "source": [
    "#### split sklearn"
   ]
  },
  {
   "cell_type": "code",
   "execution_count": 699,
   "metadata": {},
   "outputs": [
    {
     "data": {
      "text/plain": [
       "(7000, 104)"
      ]
     },
     "execution_count": 699,
     "metadata": {},
     "output_type": "execute_result"
    }
   ],
   "source": [
    "#level  split\n",
    "from sklearn.model_selection import train_test_split\n",
    "\n",
    "X_train, X_val, y_train, y_val = train_test_split(X, y, test_size=0.3, random_state=SEED)\n",
    "X_train.shape"
   ]
  },
  {
   "cell_type": "markdown",
   "metadata": {},
   "source": [
    "#Split Data\n",
    "\n",
    "X_train = X[:7000]\n",
    "X_val   = X[7000:]\n",
    "print(X_train.shape, X_val.shape)\n",
    "\n",
    "y_train = y[:7000]\n",
    "y_val  = y[7000:]\n",
    "print(y_train.shape, y_val.shape)"
   ]
  },
  {
   "cell_type": "markdown",
   "metadata": {},
   "source": [
    "### CV"
   ]
  },
  {
   "cell_type": "code",
   "execution_count": 8,
   "metadata": {},
   "outputs": [],
   "source": [
    "n_folds = 5\n",
    "\n",
    "def f1_cv(model, X,y):\n",
    "    kf = KFold(n_folds, shuffle=True, random_state=42).get_n_splits(X.values)\n",
    "    f1 =  cross_val_score(model, X.values, y, scoring=\"f1_micro\", cv = kf, verbose = 2)\n",
    "    return(f1)"
   ]
  },
  {
   "cell_type": "markdown",
   "metadata": {},
   "source": [
    "### Models"
   ]
  },
  {
   "cell_type": "code",
   "execution_count": null,
   "metadata": {},
   "outputs": [],
   "source": [
    "#Keras\n",
    " \n",
    "def keras_build():\n",
    "    #model = Sequential()\n",
    "    model = Bidirectional(LSTM(50, return_sequences=True, dropout=0.1, recurrent_dropout=0.1))\n",
    "    model.Dense(50, activation=\"relu\")\n",
    "    model.Dropout(0.1)\n",
    "    model.Dense(6, activation=\"sigmoid\")\n",
    "    model.compile(loss='binary_crossentropy', optimizer='adam', metrics=['accuracy'])\n",
    "\n",
    "ker_m = KerasClassifier(build_fn=keras_build, epochs=200, batch_size=5, verbose=0)"
   ]
  },
  {
   "cell_type": "code",
   "execution_count": 694,
   "metadata": {},
   "outputs": [],
   "source": [
    "\n",
    "\n",
    "xgb_m = XGBClassifier(n_estimators=1800, #1800\n",
    "                        max_depth=7, # 7\n",
    "                        objective=\"multi:softmax\",  #binary:logistic\n",
    "                        num_class = 3,\n",
    "                        learning_rate=.02, #.02\n",
    "                        subsample=.7,        #0.7\n",
    "                        colsample_bytree=.3, #0.3\n",
    "                        gamma=1.5, #1.5\n",
    "                        #reg_alpha=0,\n",
    "                        #reg_lambda=1,\n",
    "                        nthread=2)\n",
    "\n",
    "\n",
    "\n",
    "\n",
    "catc_m = CatBoostClassifier(learning_rate=0.05, #.05\n",
    "                            depth=6, \n",
    "                            l2_leaf_reg = 14, \n",
    "                            iterations = 1650, #650\n",
    "                            verbose = False,\n",
    "                            loss_function='MultiClassOneVsAll',\n",
    "                            random_seed=SEED,\n",
    "                            thread_count = 2,\n",
    "                            )\n",
    "\n",
    "\n",
    "\n",
    "\n",
    "\n",
    "\n",
    "\n",
    "catd_m = CatBoostClassifier(random_seed = SEED,\n",
    "                           leaf_estimation_method ='Newton',\n",
    "                           learning_rate=0.057, \n",
    "                           l2_leaf_reg = 23, \n",
    "                           depth=6, \n",
    "                           od_pval=0.0000001, \n",
    "                           iterations = 877, \n",
    "                           loss_function='Logloss')\n",
    "\n",
    "\n",
    "\n",
    "gbc_m = GradientBoostingClassifier(learning_rate =0.06,  #.06\n",
    "                                   n_estimators = 550,#550\n",
    "                                   max_depth = 5, #5\n",
    "                                   max_features = 0.65, #0.65\n",
    "                                   min_samples_leaf = 1, #1                                  \n",
    "                                   random_state = SEED\n",
    "                                  )\n",
    "\n",
    "\n",
    "catz_m = CatBoostClassifier(iterations=1186,   #504, 1186\n",
    "                           learning_rate=0.06, #.07, .06\n",
    "                           depth=8, #8\n",
    "                           l2_leaf_reg = 1,  #1\n",
    "                           eval_metric = 'TotalF1', #MultiClass\n",
    "                           loss_function='MultiClass', #'MultiClass'\n",
    "                           classes_count=4,\n",
    "                           #rsm = 0.99,\n",
    "                           #random_strength = 0.5,\n",
    "                           #bagging_temperature = 0.5,\n",
    "                           #one_hot_max_size = 1500,\n",
    "                           thread_count = 1,\n",
    "                           random_seed=SEED,\n",
    "                           verbose = False)\n",
    "\n",
    "\n",
    "\n",
    "lgb_m = lgb.LGBMClassifier(max_depth=4, \n",
    "                           metric=\"f1\", \n",
    "                           n_estimators=900, #800\n",
    "                           num_leaves=10,  #10\n",
    "                           boosting_type=\"gbdt\", \n",
    "                           learning_rate=0.05, #.05 \n",
    "                           feature_fraction=0.45,  #0.45\n",
    "                           #max_bin = 200,  #600\n",
    "                           #colsample_bytree=0.45,\n",
    "                           #bagging_fraction=0.8,\n",
    "                           #bagging_freq=5, \n",
    "                           reg_lambda=0.2)\n",
    "\n",
    "\n",
    "\n",
    "etc_m = ExtraTreesClassifier(n_estimators = 800,\n",
    "                             max_features = .4, \n",
    "                             max_depth = 15, \n",
    "                             min_samples_split = 2,\n",
    "                             #criterion = 'entropy',\n",
    "                             random_state=SEED)\n",
    "\n",
    "base = LogisticRegression()\n",
    "#base = ExtraTreesClassifier()\n",
    "bag_m = BaggingClassifier(n_jobs=-1,\n",
    "                         base_estimator=base,\n",
    "                          n_estimators=30, #30\n",
    "                          #max_features = 0.9, #0.6\n",
    "                          #max_samples = 0.9,\n",
    "                          bootstrap = True,\n",
    "                          #bootstrap_features = True,\n",
    "                          random_state=SEED\n",
    "                         )\n",
    "baseA = LogisticRegression()\n",
    "#baseA = ExtraTreesClassifier()\n",
    "#baseA = RandomForestClassifier()\n",
    "abc_m = AdaBoostClassifier(base_estimator=baseA,\n",
    "                           n_estimators = 1000,  #1000\n",
    "                           learning_rate =0.025,  #.025\n",
    "                           random_state = SEED                           \n",
    "                          )\n",
    "\n",
    "\n",
    "rfc_m = RandomForestClassifier(n_estimators=800, #800\n",
    "                               criterion = 'entropy', #entropy\n",
    "                               max_features = 0.5, #0.5\n",
    "                               max_depth = 25,  #25\n",
    "                               min_samples_split = 5,  # 5\n",
    "                               min_samples_leaf = 2,  #2                             \n",
    "                               max_leaf_nodes=253,  #253\n",
    "                               bootstrap = True,  #True\n",
    "                               random_state=SEED)\n",
    "\n",
    "\n",
    "\n",
    "\n",
    "xgb_m = XGBClassifier(n_estimators=1370, #1750\n",
    "                        max_depth=6, # 7\n",
    "                        objective=\"multi:softmax\",  #binary:logistic\n",
    "                        num_class = 3,\n",
    "                        learning_rate=.017, #.02/ .17\n",
    "                        subsample=.6,        #0.7\n",
    "                        colsample_bytree=.3, #0.3\n",
    "                        gamma=10, #10\n",
    "                        min_child_weight = 2.4, #2.4\n",
    "                        #reg_alpha=0.01,\n",
    "                        reg_lambda=1.2,  #1.2\n",
    "                        #max_delta_step = 3,\n",
    "                        nthread=2)\n",
    "\n",
    "\n",
    "\n",
    "rid_m = RidgeClassifier( alpha = 7.2,  #7.2\n",
    "                         #fit_intercept = True,\n",
    "                         #normalize = True,\n",
    "                         #max_iter = 1,\n",
    "                         #tol = .0005,\n",
    "                         #solver = 'sag',\n",
    "                         random_state = SEED                         \n",
    "                       )\n",
    "\n",
    "\n",
    "\n",
    "bnb_m = BernoulliNB( alpha = 5.5, #5\n",
    "                     #binarize = 1,\n",
    "                   )\n",
    "\n",
    "\n",
    "base = LogisticRegression()\n",
    "#base = ExtraTreesClassifier()\n",
    "bag_m = BaggingClassifier(n_jobs=-1,\n",
    "                          base_estimator=base,\n",
    "                          n_estimators=68, #68\n",
    "                          #max_features = 0.9, #0.6\n",
    "                          #max_samples = 0.9,\n",
    "                          bootstrap = True,\n",
    "                          #bootstrap_features = True,\n",
    "                          random_state=SEED\n",
    "                         )\n",
    "\n",
    "\n",
    "svc_m = LinearSVC( random_state = SEED,\n",
    "                   penalty = 'l2',\n",
    "                   #loss = 'hinge', \n",
    "                   dual = False,\n",
    "                   tol = .00012, #.00012\n",
    "                   #C = 1, \n",
    "                   fit_intercept = True,\n",
    "                   intercept_scaling = 1.01, #1.01\n",
    "                   max_iter = 50, #50\n",
    "                   )\n",
    "\n",
    "xgb2_m = XGBClassifier(n_estimators=1870, #1870\n",
    "                        max_depth=7, # 7\n",
    "                        objective=\"multi:softmax\",  #binary:logistic\n",
    "                        num_class = 3,\n",
    "                        learning_rate=.015, #.015\n",
    "                        #subsample=.7,        #0.7\n",
    "                        #colsample_bytree=.3, #0.3\n",
    "                        gamma=1.5, #1.5                        \n",
    "                        #reg_alpha=0,\n",
    "                        #reg_lambda=1,\n",
    "                        nthread=3)\n",
    "\n",
    "cat_m = CatBoostClassifier(iterations=1947, \n",
    "                           learning_rate=0.05,  #.05\n",
    "                           depth=5,\n",
    "                           #l2_leaf_reg = 1,\n",
    "                           eval_metric = 'MultiClass',\n",
    "                           loss_function='MultiClass', \n",
    "                           random_seed=4321,\n",
    "                           verbose = False)\n",
    "\n",
    "lgb3_m = lgb.LGBMClassifier(max_depth=2, #2\n",
    "                           metric='multi_error',    #auc\n",
    "                           n_estimators=3510, #2115/2510\n",
    "                           num_leaves=3,  #3\n",
    "                           boosting_type= 'gbdt', # \"gbdt\"\n",
    "                           #xgboost_dart_mode = True,\n",
    "                           learning_rate=0.015, #.023/ .015\n",
    "                           #feature_fraction=0.90,  #0.34\n",
    "                           application = 'multiclass',\n",
    "                           #classes = 3,\n",
    "                           #max_bin = 500,  #255\n",
    "                           #colsample_bytree=0.001, #.45\n",
    "                           #bagging_fraction=0.95,\n",
    "                           #bagging_freq=50, \n",
    "                           #reg_alpha = 2, #2\n",
    "                           #reg_lambda=2, #2\n",
    "                           min_data_in_leaf = 35, #25/40\n",
    "                           min_sum_hessian_in_leaf = 10, #.7/ 10\n",
    "                           seed = SEED)\n",
    "\n",
    "lgb2_m = lgb.LGBMClassifier(max_depth=2, #2\n",
    "                           metric='multi_error',    #auc\n",
    "                           n_estimators=2850, #2850\n",
    "                           num_leaves=3,  #3\n",
    "                           boosting_type= 'gbdt', # \"gbdt\"\n",
    "                           #xgboost_dart_mode = True,\n",
    "                           learning_rate=0.017, #.023/ .017\n",
    "                           #feature_fraction=0.06,  #0.06\n",
    "                           application = 'multiclass',\n",
    "                           #classes = 3,\n",
    "                           #max_bin = 70,  #255\n",
    "                           #colsample_bytree=1, #.45\n",
    "                           #bagging_fraction=0.8,\n",
    "                           #bagging_freq=500, \n",
    "                           reg_alpha = 2, #2\n",
    "                           reg_lambda=4, #4\n",
    "                           min_data_in_leaf = 53, #53\n",
    "                           min_sum_hessian_in_leaf = 11, #.7\n",
    "                           seed = SEED)\n",
    "\n",
    "knn_m = KNeighborsClassifier(algorithm='auto', \n",
    "                         n_neighbors = 40\n",
    "                        )\n",
    "\n",
    "log_m = LogisticRegression(\n",
    "                           random_state = SEED,\n",
    "                           penalty = 'l2',   #l2\n",
    "                           tol = .00005,  #.00005\n",
    "                           C = 0.65, #0.65/1/5\n",
    "                           #fit_intercept = True, #False\n",
    "                           #intercept_scaling = 0.5,  #1\n",
    "                           solver = 'newton-cg', # newton-cg\n",
    "                           multi_class = 'multinomial',  # multinomial\n",
    "                           max_iter = 57,  #57\n",
    "                           )\n",
    "\n",
    "mlp_m = MLPClassifier(hidden_layer_sizes = (400,50,400),  #400,50,400\n",
    "                      activation = 'logistic',  #logistic\n",
    "                      solver = 'adam', # adam\n",
    "                      alpha = .0001, #  .0001\n",
    "                      batch_size = 250,  #250\n",
    "                      #learning_rate = 'invscaling',\n",
    "                      learning_rate_init = .001,  #.001\n",
    "                      #power_t = 0.5,\n",
    "                      max_iter = 400,   \n",
    "                      early_stopping = True,\n",
    "                      tol = .0001,\n",
    "                      #beta_1 = 0.1,\n",
    "                      #beta_2 = 0.9,\n",
    "                      random_state = SEED)\n",
    "\n",
    "lda_m = LinearDiscriminantAnalysis( solver = 'svd',\n",
    "                                  )"
   ]
  },
  {
   "cell_type": "code",
   "execution_count": 698,
   "metadata": {},
   "outputs": [
    {
     "name": "stdout",
     "output_type": "stream",
     "text": [
      "0.702\n"
     ]
    }
   ],
   "source": [
    "lda_m.fit(X_train, y_train)\n",
    "lda_prediction = lda_m.predict(X_val)\n",
    "print(f1_score(y_val, lda_prediction, average = 'micro'))  #6906\n",
    "#print(lda_m.best_iteration)"
   ]
  },
  {
   "cell_type": "code",
   "execution_count": 627,
   "metadata": {},
   "outputs": [
    {
     "name": "stdout",
     "output_type": "stream",
     "text": [
      "0.67\n"
     ]
    }
   ],
   "source": [
    "mlp_m.fit(X_train, y_train)\n",
    "mlp_prediction = mlp_m.predict(X_val)\n",
    "print(f1_score(y_val, mlp_prediction, average = 'micro'))  #6906\n",
    "#print(mlp_m.best_iteration)"
   ]
  },
  {
   "cell_type": "code",
   "execution_count": null,
   "metadata": {},
   "outputs": [],
   "source": [
    "model = mlp_m\n",
    "score = f1_cv(model, X, y)\n",
    "print(\"\\nF1 score: {:.4f} +/-:({:.4f})\\n\".format(score.mean(), score.std()))  #6966 0112"
   ]
  },
  {
   "cell_type": "markdown",
   "metadata": {},
   "source": [
    "### Fit/ F1"
   ]
  },
  {
   "cell_type": "code",
   "execution_count": 628,
   "metadata": {},
   "outputs": [
    {
     "name": "stdout",
     "output_type": "stream",
     "text": [
      "0.6886666666666666\n"
     ]
    },
    {
     "name": "stderr",
     "output_type": "stream",
     "text": [
      "C:\\Users\\user\\Anaconda3\\lib\\site-packages\\sklearn\\preprocessing\\label.py:151: DeprecationWarning: The truth value of an empty array is ambiguous. Returning False, but in future this will result in an error. Use `array.size > 0` to check that an array is not empty.\n",
      "  if diff:\n"
     ]
    }
   ],
   "source": [
    "lgb3_m.fit(X_train, y_train)\n",
    "lgb3_prediction = lgb3_m.predict(X_val)\n",
    "print(f1_score(y_val, lgb3_prediction, average = 'micro'))  #7026\n",
    "#print(lgb3_m.best_iteration)"
   ]
  },
  {
   "cell_type": "markdown",
   "metadata": {},
   "source": [
    "cat_m.fit(X_train, y_train)\n",
    "cat_prediction = cat_m.predict(X_val)\n",
    "print(f1_score(y_val, cat_prediction, average = 'micro'))#6973"
   ]
  },
  {
   "cell_type": "code",
   "execution_count": 664,
   "metadata": {},
   "outputs": [
    {
     "name": "stdout",
     "output_type": "stream",
     "text": [
      "0.6976666666666667\n"
     ]
    },
    {
     "name": "stderr",
     "output_type": "stream",
     "text": [
      "C:\\Users\\user\\Anaconda3\\lib\\site-packages\\sklearn\\preprocessing\\label.py:151: DeprecationWarning: The truth value of an empty array is ambiguous. Returning False, but in future this will result in an error. Use `array.size > 0` to check that an array is not empty.\n",
      "  if diff:\n"
     ]
    }
   ],
   "source": [
    "xgb2_m.fit(X_train, y_train)\n",
    "xgb2_prediction = xgb2_m.predict(X_val)\n",
    "print(f1_score(y_val, xgb2_prediction, average = 'micro'))  #.6846"
   ]
  },
  {
   "cell_type": "code",
   "execution_count": 630,
   "metadata": {},
   "outputs": [
    {
     "name": "stdout",
     "output_type": "stream",
     "text": [
      "0.6886666666666666\n"
     ]
    }
   ],
   "source": [
    "svc_m.fit(X_train, y_train)\n",
    "svc_prediction = svc_m.predict(X_val)\n",
    "print(f1_score(y_val, svc_prediction, average = 'micro'))  #7056\n",
    "#print(svc_m.best_iteration)"
   ]
  },
  {
   "cell_type": "code",
   "execution_count": 631,
   "metadata": {},
   "outputs": [
    {
     "name": "stdout",
     "output_type": "stream",
     "text": [
      "0.6903333333333334\n"
     ]
    }
   ],
   "source": [
    "bag_m.fit(X_train, y_train)\n",
    "bag_prediction = bag_m.predict(X_val)\n",
    "print(f1_score(y_val, bag_prediction, average = 'micro'))# 7070"
   ]
  },
  {
   "cell_type": "code",
   "execution_count": 632,
   "metadata": {},
   "outputs": [
    {
     "name": "stdout",
     "output_type": "stream",
     "text": [
      "0.6213333333333333\n"
     ]
    }
   ],
   "source": [
    "bnb_m.fit(X_train, y_train)\n",
    "bnb_prediction = bnb_m.predict(X_val)\n",
    "print(f1_score(y_val, bnb_prediction, average = 'micro'))  #6816\n",
    "#print(bnb_m.best_iteration)"
   ]
  },
  {
   "cell_type": "code",
   "execution_count": 633,
   "metadata": {},
   "outputs": [
    {
     "name": "stdout",
     "output_type": "stream",
     "text": [
      "0.6823333333333333\n"
     ]
    }
   ],
   "source": [
    "rid_m.fit(X_train, y_train)\n",
    "rid_prediction = rid_m.predict(X_val)\n",
    "print(f1_score(y_val, rid_prediction, average = 'micro'))# 7040"
   ]
  },
  {
   "cell_type": "code",
   "execution_count": 663,
   "metadata": {},
   "outputs": [
    {
     "name": "stdout",
     "output_type": "stream",
     "text": [
      "0.704\n"
     ]
    }
   ],
   "source": [
    "log_m.fit(X_train, y_train)\n",
    "log_prediction = log_m.predict(X_val)\n",
    "print(f1_score(y_val, log_prediction, average = 'micro'))# .7060  /7080"
   ]
  },
  {
   "cell_type": "code",
   "execution_count": 635,
   "metadata": {},
   "outputs": [
    {
     "name": "stdout",
     "output_type": "stream",
     "text": [
      "0.69\n"
     ]
    },
    {
     "name": "stderr",
     "output_type": "stream",
     "text": [
      "C:\\Users\\user\\Anaconda3\\lib\\site-packages\\sklearn\\preprocessing\\label.py:151: DeprecationWarning: The truth value of an empty array is ambiguous. Returning False, but in future this will result in an error. Use `array.size > 0` to check that an array is not empty.\n",
      "  if diff:\n"
     ]
    }
   ],
   "source": [
    "xgb_m.fit(X_train, y_train)\n",
    "xgb_prediction = xgb_m.predict(X_val)\n",
    "print(f1_score(y_val, xgb_prediction, average = 'micro'))  #6976"
   ]
  },
  {
   "cell_type": "code",
   "execution_count": 636,
   "metadata": {},
   "outputs": [
    {
     "name": "stdout",
     "output_type": "stream",
     "text": [
      "0.6886666666666666\n"
     ]
    }
   ],
   "source": [
    "rfc_m.fit(X_train, y_train)\n",
    "rfc_prediction = rfc_m.predict(X_val)\n",
    "print(f1_score(y_val, rfc_prediction, average = 'micro'))  #6893"
   ]
  },
  {
   "cell_type": "code",
   "execution_count": 637,
   "metadata": {},
   "outputs": [
    {
     "name": "stdout",
     "output_type": "stream",
     "text": [
      "0.686\n"
     ]
    }
   ],
   "source": [
    "abc_m.fit(X_train, y_train)\n",
    "abc_prediction = abc_m.predict(X_val)\n",
    "print(f1_score(y_val, abc_prediction, average = 'micro'))# .6903"
   ]
  },
  {
   "cell_type": "code",
   "execution_count": 638,
   "metadata": {},
   "outputs": [
    {
     "name": "stdout",
     "output_type": "stream",
     "text": [
      "0.6876666666666666\n"
     ]
    }
   ],
   "source": [
    "etc_m.fit(X_train, y_train)\n",
    "etc_prediction = etc_m.predict(X_val)\n",
    "print(f1_score(y_val, etc_prediction, average = 'micro')) #.6733"
   ]
  },
  {
   "cell_type": "code",
   "execution_count": 639,
   "metadata": {},
   "outputs": [
    {
     "name": "stdout",
     "output_type": "stream",
     "text": [
      "0.6863333333333334\n"
     ]
    },
    {
     "name": "stderr",
     "output_type": "stream",
     "text": [
      "C:\\Users\\user\\Anaconda3\\lib\\site-packages\\sklearn\\preprocessing\\label.py:151: DeprecationWarning: The truth value of an empty array is ambiguous. Returning False, but in future this will result in an error. Use `array.size > 0` to check that an array is not empty.\n",
      "  if diff:\n"
     ]
    }
   ],
   "source": [
    "lgb_m.fit(X_train, y_train)\n",
    "lgb_prediction = lgb_m.predict(X_val)\n",
    "print(f1_score(y_val, lgb_prediction, average = 'micro'))    #6806"
   ]
  },
  {
   "cell_type": "code",
   "execution_count": 640,
   "metadata": {},
   "outputs": [
    {
     "name": "stdout",
     "output_type": "stream",
     "text": [
      "0.6726666666666666\n"
     ]
    }
   ],
   "source": [
    "gbc_m.fit(X_train, y_train)\n",
    "gbc_prediction = gbc_m.predict(X_val)\n",
    "print(f1_score(y_val, gbc_prediction, average = 'micro'))#.6720"
   ]
  },
  {
   "cell_type": "code",
   "execution_count": 641,
   "metadata": {},
   "outputs": [
    {
     "name": "stdout",
     "output_type": "stream",
     "text": [
      "0.677\n"
     ]
    }
   ],
   "source": [
    "knn_m.fit(X_train, y_train)\n",
    "knn_prediction = knn_m.predict(X_val)\n",
    "print(f1_score(y_val, knn_prediction, average = 'micro'))# .6593"
   ]
  },
  {
   "cell_type": "code",
   "execution_count": 642,
   "metadata": {},
   "outputs": [
    {
     "name": "stdout",
     "output_type": "stream",
     "text": [
      "0.682\n"
     ]
    }
   ],
   "source": [
    "catz_m.fit(X_train, y_train)       \n",
    "catz_prediction = catz_m.predict(X_val)\n",
    "print(f1_score(y_val, catz_prediction, average = 'micro'))  #6770"
   ]
  },
  {
   "cell_type": "markdown",
   "metadata": {},
   "source": [
    "catc_m.fit(X_train, y_train)\n",
    "catc_prediction = catc_m.predict(X_val)\n",
    "print(f1_score(y_val, catc_prediction, average = 'micro')) #6740"
   ]
  },
  {
   "cell_type": "markdown",
   "metadata": {},
   "source": [
    "## XGB feature importance"
   ]
  },
  {
   "cell_type": "code",
   "execution_count": 163,
   "metadata": {},
   "outputs": [
    {
     "data": {
      "text/plain": [
       "XGBClassifier(base_score=0.5, booster='gbtree', colsample_bylevel=1,\n",
       "       colsample_bytree=0.3, gamma=10, learning_rate=0.017,\n",
       "       max_delta_step=0, max_depth=6, min_child_weight=2.4, missing=None,\n",
       "       n_estimators=1370, n_jobs=1, nthread=2, num_class=3,\n",
       "       objective='multi:softprob', random_state=0, reg_alpha=0,\n",
       "       reg_lambda=1.2, scale_pos_weight=1, seed=None, silent=True,\n",
       "       subsample=0.6)"
      ]
     },
     "execution_count": 163,
     "metadata": {},
     "output_type": "execute_result"
    }
   ],
   "source": [
    "from xgboost import plot_importance\n",
    "from matplotlib import pyplot\n",
    "\n",
    "xgb_m.fit(X, y)"
   ]
  },
  {
   "cell_type": "code",
   "execution_count": 164,
   "metadata": {},
   "outputs": [],
   "source": [
    "def plot_fi(fi):\n",
    "    return fi.plot('cols', 'imp', 'barh', figsize = (12,12), legend = False) #"
   ]
  },
  {
   "cell_type": "code",
   "execution_count": 165,
   "metadata": {},
   "outputs": [],
   "source": [
    "def rf_feat_importance(m, df):\n",
    "    return pd.DataFrame({'cols':df.columns, 'imp':m.feature_importances_}).sort_values('imp', ascending=False)"
   ]
  },
  {
   "cell_type": "code",
   "execution_count": 166,
   "metadata": {},
   "outputs": [],
   "source": [
    "fi = rf_feat_importance(xgb_m, X)"
   ]
  },
  {
   "cell_type": "code",
   "execution_count": 435,
   "metadata": {},
   "outputs": [
    {
     "name": "stdout",
     "output_type": "stream",
     "text": [
      "1342                                     log_2\n",
      "0                                          age\n",
      "1339                                     rid_2\n",
      "1340                                     svc_2\n",
      "1305        foundation_type_0.5240585522958993\n",
      "1313      ground_floor_type_0.8125521157589622\n",
      "1341                                     bag_2\n",
      "1256         geo_level_1_id_0.7696756994207052\n",
      "1258         geo_level_1_id_1.7153428568662812\n",
      "1265         geo_level_1_id_3.4967462026171217\n",
      "4          has_superstructure_mud_mortar_stone\n",
      "1321                        other_floor_type_4\n",
      "8       has_superstructure_cement_mortar_brick\n",
      "1260            geo_level_1_id_2.3658226865517\n",
      "1310                               roof_type_1\n",
      "1306        foundation_type_0.7146191256869676\n",
      "1264         geo_level_1_id_3.3051512348420027\n",
      "1308        foundation_type_0.8778554156737959\n",
      "1263         geo_level_1_id_3.0995713812389036\n",
      "1262         geo_level_1_id_2.8772430875014408\n",
      "1314      ground_floor_type_1.4185746659868919\n",
      "1276          geo_level_1_id_5.065976133780747\n",
      "1286    count_floors_pre_eq_0.7824933343069551\n",
      "1                                         area\n",
      "3                 has_superstructure_adobe_mud\n",
      "1261         geo_level_1_id_2.6344203933651187\n",
      "1318                        other_floor_type_1\n",
      "1288    count_floors_pre_eq_1.7750282861882025\n",
      "2                                       height\n",
      "7          has_superstructure_mud_mortar_brick\n",
      "                         ...                  \n",
      "9                    has_superstructure_timber\n",
      "12                           has_secondary_use\n",
      "11        has_superstructure_rc_non_engineered\n",
      "1274          geo_level_1_id_4.830571704755453\n",
      "1269          geo_level_1_id_4.159144737300928\n",
      "1319                        other_floor_type_2\n",
      "1315      ground_floor_type_1.9202727753976827\n",
      "10                   has_superstructure_bamboo\n",
      "60            geo_level_2_id_8.412564047361421\n",
      "1311                               roof_type_2\n",
      "1271          geo_level_1_id_4.444227604163229\n",
      "1325               position_0.7785748647859106\n",
      "1280          geo_level_1_id_5.495006220024008\n",
      "68            geo_level_2_id_9.089897595932333\n",
      "1275           geo_level_1_id_4.95024462400022\n",
      "94           geo_level_2_id_10.929823345207762\n",
      "1259         geo_level_1_id_2.0636160309942717\n",
      "1257          geo_level_1_id_1.299099306797067\n",
      "6       has_superstructure_cement_mortar_stone\n",
      "576           geo_level_2_id_25.27437169906166\n",
      "149          geo_level_2_id_13.831824904281172\n",
      "1294                        count_families_0.0\n",
      "141           geo_level_2_id_13.46346750508219\n",
      "1323               position_0.6531243459982511\n",
      "1307        foundation_type_0.8151377277984458\n",
      "1303                  land_surface_condition_2\n",
      "23            geo_level_2_id_3.384816517782773\n",
      "46            geo_level_2_id_7.019635080663118\n",
      "1335                  legal_ownership_status_1\n",
      "20             geo_level_2_id_2.53833144204563\n",
      "Name: cols, Length: 66, dtype: object\n"
     ]
    }
   ],
   "source": [
    "small_cols = fi.cols[fi.imp > .000001]\n",
    "print(small_cols)"
   ]
  },
  {
   "cell_type": "code",
   "execution_count": 434,
   "metadata": {},
   "outputs": [
    {
     "data": {
      "text/plain": [
       "<matplotlib.axes._subplots.AxesSubplot at 0x190da4a8>"
      ]
     },
     "execution_count": 434,
     "metadata": {},
     "output_type": "execute_result"
    },
    {
     "data": {
      "image/png": "[encoded data removed]",
      "text/plain": [
       "<matplotlib.figure.Figure at 0x39387dd8>"
      ]
     },
     "metadata": {},
     "output_type": "display_data"
    }
   ],
   "source": [
    "small = fi[fi.imp > .000001]\n",
    "plot_fi(small)"
   ]
  },
  {
   "cell_type": "markdown",
   "metadata": {},
   "source": [
    "#### CV"
   ]
  },
  {
   "cell_type": "code",
   "execution_count": 696,
   "metadata": {},
   "outputs": [
    {
     "name": "stdout",
     "output_type": "stream",
     "text": [
      "[CV]  ................................................................\n",
      "[CV] ................................................. , total=   0.1s\n",
      "[CV]  ................................................................\n"
     ]
    },
    {
     "name": "stderr",
     "output_type": "stream",
     "text": [
      "[Parallel(n_jobs=1)]: Done   1 out of   1 | elapsed:    0.1s remaining:    0.0s\n"
     ]
    },
    {
     "name": "stdout",
     "output_type": "stream",
     "text": [
      "[CV] ................................................. , total=   0.0s\n",
      "[CV]  ................................................................\n",
      "[CV] ................................................. , total=   0.0s\n",
      "[CV]  ................................................................\n",
      "[CV] ................................................. , total=   0.0s\n",
      "[CV]  ................................................................\n",
      "[CV] ................................................. , total=   0.0s\n",
      "\n",
      "F1 score: 0.6943 +/-:(0.0104)\n",
      "\n"
     ]
    },
    {
     "name": "stderr",
     "output_type": "stream",
     "text": [
      "[Parallel(n_jobs=1)]: Done   5 out of   5 | elapsed:    0.6s finished\n"
     ]
    }
   ],
   "source": [
    "model = lda_m\n",
    "score = f1_cv(model, X, y)\n",
    "print(\"\\nF1 score: {:.4f} +/-:({:.4f})\\n\".format(score.mean(), score.std()))"
   ]
  },
  {
   "cell_type": "code",
   "execution_count": 679,
   "metadata": {},
   "outputs": [
    {
     "name": "stdout",
     "output_type": "stream",
     "text": [
      "[CV]  ................................................................\n",
      "[CV] ................................................. , total=   7.0s\n",
      "[CV]  ................................................................\n"
     ]
    },
    {
     "name": "stderr",
     "output_type": "stream",
     "text": [
      "[Parallel(n_jobs=1)]: Done   1 out of   1 | elapsed:    7.0s remaining:    0.0s\n"
     ]
    },
    {
     "name": "stdout",
     "output_type": "stream",
     "text": [
      "[CV] ................................................. , total=   7.7s\n",
      "[CV]  ................................................................\n",
      "[CV] ................................................. , total=   6.8s\n",
      "[CV]  ................................................................\n",
      "[CV] ................................................. , total=   7.9s\n",
      "[CV]  ................................................................\n",
      "[CV] ................................................. , total=   7.9s\n",
      "\n",
      "F1 score: 0.6954 +/-:(0.0109)\n",
      "\n"
     ]
    },
    {
     "name": "stderr",
     "output_type": "stream",
     "text": [
      "[Parallel(n_jobs=1)]: Done   5 out of   5 | elapsed:   37.7s finished\n"
     ]
    }
   ],
   "source": [
    "model = log_m\n",
    "score = f1_cv(model, X, y)\n",
    "print(\"\\nF1 score: {:.4f} +/-:({:.4f})\\n\".format(score.mean(), score.std()))"
   ]
  },
  {
   "cell_type": "markdown",
   "metadata": {},
   "source": [
    "### Early stopping"
   ]
  },
  {
   "cell_type": "code",
   "execution_count": null,
   "metadata": {},
   "outputs": [],
   "source": [
    "#CatBoost early stooppping\n",
    "eval_set =(X_val, y_val)\n",
    "catz_m.fit(X_train,y_train, use_best_model=True, eval_set=eval_set) #.6704"
   ]
  },
  {
   "cell_type": "markdown",
   "metadata": {},
   "source": [
    "### Add Columns"
   ]
  },
  {
   "cell_type": "code",
   "execution_count": null,
   "metadata": {},
   "outputs": [],
   "source": [
    "#fits model to folds and returns column with predictions\n",
    "def fit_folds(model, n_folds, X, y ):\n",
    "    \n",
    "    new_col = np.zeros((X.shape[0], 1))\n",
    "    kfold = KFold( n_splits = n_folds, shuffle=False, random_state=4321) \n",
    "        \n",
    "    for train_index, test_index in kfold.split(X):  \n",
    "        Xt, Xv = X.iloc[train_index], X.iloc[test_index]\n",
    "        yt, yv = y.iloc[train_index], y.iloc[test_index]\n",
    "        model.fit(Xt, yt)\n",
    "        pred = np.column_stack([model.predict(Xv)])        \n",
    "        new_col[test_index] = pred\n",
    "                        \n",
    "    return(new_col)"
   ]
  },
  {
   "cell_type": "code",
   "execution_count": null,
   "metadata": {},
   "outputs": [],
   "source": [
    "#New DF\n",
    "X_2 = X.copy()\n",
    "test_2 = test.copy()"
   ]
  },
  {
   "cell_type": "code",
   "execution_count": null,
   "metadata": {},
   "outputs": [],
   "source": [
    "folds = 100  #Number of folds"
   ]
  },
  {
   "cell_type": "code",
   "execution_count": null,
   "metadata": {},
   "outputs": [],
   "source": [
    "estimators = []\n",
    "estimators.append(('gbc_1', gbc_m))\n",
    "estimators.append(('catz_1', catz_m))\n",
    "estimators.append(('rfc_1', rfc_m))\n",
    "estimators.append(('xgb2_1', xgb2_m))\n",
    "estimators.append(('lgb2_1', lgb2_m))"
   ]
  },
  {
   "cell_type": "code",
   "execution_count": null,
   "metadata": {},
   "outputs": [],
   "source": [
    "clfs_m  =  [ svc_m, rid_m, log_m, bag_m ]"
   ]
  },
  {
   "cell_type": "code",
   "execution_count": null,
   "metadata": {},
   "outputs": [],
   "source": [
    "X_2['rid_2'] = fit_folds(rid_m, folds, X, y)\n",
    "rid_m.fit(X, y)\n",
    "test_2['rid_2'] = rid_m.predict(test)\n",
    "print('done')"
   ]
  },
  {
   "cell_type": "code",
   "execution_count": null,
   "metadata": {},
   "outputs": [],
   "source": [
    "X_2['svc_2'] = fit_folds(svc_m, folds, X, y)\n",
    "svc_m.fit(X, y)\n",
    "test_2['svc_2'] = svc_m.predict(test)\n",
    "print('done')"
   ]
  },
  {
   "cell_type": "code",
   "execution_count": null,
   "metadata": {},
   "outputs": [],
   "source": [
    "X_2['bag_2'] = fit_folds(bag_m, folds, X, y)\n",
    "bag_m.fit(X, y)\n",
    "test_2['bag_2'] = bag_m.predict(test)\n",
    "print('done')"
   ]
  },
  {
   "cell_type": "code",
   "execution_count": null,
   "metadata": {},
   "outputs": [],
   "source": [
    "X_2['log_2'] = fit_folds(log_m, folds, X, y)\n",
    "log_m.fit(X, y)\n",
    "test_2['log_2'] = log_m.predict(test)\n",
    "print('done')"
   ]
  },
  {
   "cell_type": "markdown",
   "metadata": {},
   "source": [
    "X_2['xgb_2'] = fit_folds(xgb_m, folds, X, y)\n",
    "xgb_m.fit(X, y)\n",
    "test_2['xgb_2'] = xgb_m.predict(test)\n",
    "print('done')"
   ]
  },
  {
   "cell_type": "markdown",
   "metadata": {},
   "source": [
    "X_2['bag2_2'] = fit_folds(bag_m, folds, X, y)\n",
    "bag_m.fit(X, y)\n",
    "test_2['bag2_2'] = bag_m.predict(test)\n",
    "print('done')"
   ]
  },
  {
   "cell_type": "code",
   "execution_count": null,
   "metadata": {},
   "outputs": [],
   "source": [
    "test_2.tail(10).transpose()"
   ]
  },
  {
   "cell_type": "code",
   "execution_count": null,
   "metadata": {},
   "outputs": [],
   "source": [
    "X_2.describe().transpose()"
   ]
  },
  {
   "cell_type": "markdown",
   "metadata": {},
   "source": [
    "### correlation"
   ]
  },
  {
   "cell_type": "code",
   "execution_count": 332,
   "metadata": {},
   "outputs": [],
   "source": [
    "#pred_corr = pd.DataFrame({'xgb':xgb_pred, 'lgb2':lgb2_pred, 'rfc':rfc_pred,'bag':bag_pred, 'abc':abc_pred, 'log':log_pred}) #'cat':cat_pred,'xgb':xgb_pred,'lgb':lgb_pred, 'rfc':rfc_pred, 'catb' :catb_pred, 'catc' :catc_pred\n",
    "#pred_corr = X_2[['gbc1', 'catz1', 'rfc1', 'xgb21', 'lgb21', 'abc_2', 'log2', 'rfc_2', 'xgb_2', 'bag2_2']]\n",
    "pred_corr = X[['log_2', 'rid_2', 'svc_2', 'bag_2']]"
   ]
  },
  {
   "cell_type": "code",
   "execution_count": 333,
   "metadata": {},
   "outputs": [
    {
     "data": {
      "text/plain": [
       "<matplotlib.axes._subplots.AxesSubplot at 0x388cf588>"
      ]
     },
     "execution_count": 333,
     "metadata": {},
     "output_type": "execute_result"
    },
    {
     "data": {
      "image/png": "[encoded data removed]",
      "text/plain": [
       "<matplotlib.figure.Figure at 0x388fbb00>"
      ]
     },
     "metadata": {},
     "output_type": "display_data"
    }
   ],
   "source": [
    "f, ax = plt.subplots(figsize=(21, 18))\n",
    "corr = pred_corr.corr()\n",
    "sns.heatmap(corr, mask=np.zeros_like(corr, dtype=np.bool), cmap=sns.diverging_palette(220, 10, as_cmap=True),\n",
    "            square=True, ax=ax)"
   ]
  },
  {
   "cell_type": "code",
   "execution_count": null,
   "metadata": {},
   "outputs": [],
   "source": []
  },
  {
   "cell_type": "markdown",
   "metadata": {},
   "source": [
    "### Feathers "
   ]
  },
  {
   "cell_type": "code",
   "execution_count": null,
   "metadata": {},
   "outputs": [],
   "source": [
    "import feather\n",
    "\n",
    "feather.write_dataframe(X_2, 'X_2_big.feather')\n",
    "feather.write_dataframe(test_2, 'test_2_big.feather')\n",
    "\n",
    "X_2.to_csv('X_2_big.csv', index = False)\n",
    "test_2.to_csv('test_2_big.csv', index = False)"
   ]
  },
  {
   "cell_type": "markdown",
   "metadata": {},
   "source": [
    "##  sklearn VotingClassifier"
   ]
  },
  {
   "cell_type": "code",
   "execution_count": 341,
   "metadata": {},
   "outputs": [],
   "source": [
    "\n",
    "estimators = []\n",
    "\n",
    "\n",
    "#estimators.append(('xgb2_', xgb2_m))\n",
    "estimators.append(('log_', log_m))\n",
    "#estimators.append(('rid_', rid_m))\n",
    "estimators.append(('lgb2_', lgb2_m))\n",
    "estimators.append(('rfc_', rfc_m))\n",
    "#estimators.append(('gbc_', gbc_m))\n",
    "#estimators.append(('bag_', bag_m))\n",
    "\n",
    "\n",
    "# create the ensemble model\n",
    "vcl_m = VotingClassifier(estimators, voting='hard' )  #   , weights=[0.45, 0.20, 0.35]"
   ]
  },
  {
   "cell_type": "code",
   "execution_count": 342,
   "metadata": {},
   "outputs": [
    {
     "data": {
      "text/plain": [
       "VotingClassifier(estimators=[('log_', LogisticRegression(C=1, class_weight=None, dual=False, fit_intercept=True,\n",
       "          intercept_scaling=1, max_iter=47, multi_class='multinomial',\n",
       "          n_jobs=1, penalty='l2', random_state=4321, solver='newton-cg',\n",
       "          tol=5e-05, verbose=0, warm_start=False)), ('lgb2_'...n_jobs=1,\n",
       "            oob_score=False, random_state=4321, verbose=0,\n",
       "            warm_start=False))],\n",
       "         flatten_transform=None, n_jobs=1, voting='hard', weights=None)"
      ]
     },
     "execution_count": 342,
     "metadata": {},
     "output_type": "execute_result"
    }
   ],
   "source": [
    "#****preds only************************\n",
    "vcl_m.fit(X_train, y_train)\n",
    " "
   ]
  },
  {
   "cell_type": "code",
   "execution_count": 348,
   "metadata": {},
   "outputs": [
    {
     "name": "stderr",
     "output_type": "stream",
     "text": [
      "C:\\Users\\user\\Anaconda3\\lib\\site-packages\\sklearn\\preprocessing\\label.py:151: DeprecationWarning: The truth value of an empty array is ambiguous. Returning False, but in future this will result in an error. Use `array.size > 0` to check that an array is not empty.\n",
      "  if diff:\n"
     ]
    },
    {
     "name": "stdout",
     "output_type": "stream",
     "text": [
      "0.6923333333333334\n"
     ]
    },
    {
     "name": "stderr",
     "output_type": "stream",
     "text": [
      "C:\\Users\\user\\Anaconda3\\lib\\site-packages\\sklearn\\preprocessing\\label.py:151: DeprecationWarning: The truth value of an empty array is ambiguous. Returning False, but in future this will result in an error. Use `array.size > 0` to check that an array is not empty.\n",
      "  if diff:\n"
     ]
    }
   ],
   "source": [
    "vcl_prediction = vcl_m.predict(X_val)\n",
    "print(f1_score(y_val, vcl_prediction, average = 'micro'))  #7096"
   ]
  },
  {
   "cell_type": "code",
   "execution_count": null,
   "metadata": {},
   "outputs": [],
   "source": []
  },
  {
   "cell_type": "code",
   "execution_count": null,
   "metadata": {},
   "outputs": [],
   "source": [
    "vcl_m.fit(X_train, y_train)\n",
    "vcl_prediction = vcl_m.predict(X_val)\n",
    "print(f1_score(y_val, vcl_prediction, average = 'micro')) #"
   ]
  },
  {
   "cell_type": "code",
   "execution_count": 355,
   "metadata": {},
   "outputs": [
    {
     "name": "stdout",
     "output_type": "stream",
     "text": [
      "[CV]  ................................................................\n"
     ]
    },
    {
     "name": "stderr",
     "output_type": "stream",
     "text": [
      "C:\\Users\\user\\Anaconda3\\lib\\site-packages\\sklearn\\preprocessing\\label.py:151: DeprecationWarning: The truth value of an empty array is ambiguous. Returning False, but in future this will result in an error. Use `array.size > 0` to check that an array is not empty.\n",
      "  if diff:\n",
      "C:\\Users\\user\\Anaconda3\\lib\\site-packages\\sklearn\\preprocessing\\label.py:151: DeprecationWarning: The truth value of an empty array is ambiguous. Returning False, but in future this will result in an error. Use `array.size > 0` to check that an array is not empty.\n",
      "  if diff:\n",
      "[Parallel(n_jobs=1)]: Done   1 out of   1 | elapsed:    7.9s remaining:    0.0s\n"
     ]
    },
    {
     "name": "stdout",
     "output_type": "stream",
     "text": [
      "[CV] ................................................. , total=   7.9s\n",
      "[CV]  ................................................................\n"
     ]
    },
    {
     "name": "stderr",
     "output_type": "stream",
     "text": [
      "C:\\Users\\user\\Anaconda3\\lib\\site-packages\\sklearn\\preprocessing\\label.py:151: DeprecationWarning: The truth value of an empty array is ambiguous. Returning False, but in future this will result in an error. Use `array.size > 0` to check that an array is not empty.\n",
      "  if diff:\n",
      "C:\\Users\\user\\Anaconda3\\lib\\site-packages\\sklearn\\preprocessing\\label.py:151: DeprecationWarning: The truth value of an empty array is ambiguous. Returning False, but in future this will result in an error. Use `array.size > 0` to check that an array is not empty.\n",
      "  if diff:\n"
     ]
    },
    {
     "name": "stdout",
     "output_type": "stream",
     "text": [
      "[CV] ................................................. , total=  10.1s\n",
      "[CV]  ................................................................\n"
     ]
    },
    {
     "name": "stderr",
     "output_type": "stream",
     "text": [
      "C:\\Users\\user\\Anaconda3\\lib\\site-packages\\sklearn\\preprocessing\\label.py:151: DeprecationWarning: The truth value of an empty array is ambiguous. Returning False, but in future this will result in an error. Use `array.size > 0` to check that an array is not empty.\n",
      "  if diff:\n",
      "C:\\Users\\user\\Anaconda3\\lib\\site-packages\\sklearn\\preprocessing\\label.py:151: DeprecationWarning: The truth value of an empty array is ambiguous. Returning False, but in future this will result in an error. Use `array.size > 0` to check that an array is not empty.\n",
      "  if diff:\n"
     ]
    },
    {
     "name": "stdout",
     "output_type": "stream",
     "text": [
      "[CV] ................................................. , total=  10.2s\n",
      "[CV]  ................................................................\n"
     ]
    },
    {
     "name": "stderr",
     "output_type": "stream",
     "text": [
      "C:\\Users\\user\\Anaconda3\\lib\\site-packages\\sklearn\\preprocessing\\label.py:151: DeprecationWarning: The truth value of an empty array is ambiguous. Returning False, but in future this will result in an error. Use `array.size > 0` to check that an array is not empty.\n",
      "  if diff:\n",
      "C:\\Users\\user\\Anaconda3\\lib\\site-packages\\sklearn\\preprocessing\\label.py:151: DeprecationWarning: The truth value of an empty array is ambiguous. Returning False, but in future this will result in an error. Use `array.size > 0` to check that an array is not empty.\n",
      "  if diff:\n"
     ]
    },
    {
     "name": "stdout",
     "output_type": "stream",
     "text": [
      "[CV] ................................................. , total=   9.1s\n",
      "[CV]  ................................................................\n"
     ]
    },
    {
     "name": "stderr",
     "output_type": "stream",
     "text": [
      "C:\\Users\\user\\Anaconda3\\lib\\site-packages\\sklearn\\preprocessing\\label.py:151: DeprecationWarning: The truth value of an empty array is ambiguous. Returning False, but in future this will result in an error. Use `array.size > 0` to check that an array is not empty.\n",
      "  if diff:\n"
     ]
    },
    {
     "name": "stdout",
     "output_type": "stream",
     "text": [
      "[CV] ................................................. , total=  12.9s\n",
      "\n",
      "F1 score: 0.6961 STD:(0.0091)\n",
      "\n"
     ]
    },
    {
     "name": "stderr",
     "output_type": "stream",
     "text": [
      "C:\\Users\\user\\Anaconda3\\lib\\site-packages\\sklearn\\preprocessing\\label.py:151: DeprecationWarning: The truth value of an empty array is ambiguous. Returning False, but in future this will result in an error. Use `array.size > 0` to check that an array is not empty.\n",
      "  if diff:\n",
      "[Parallel(n_jobs=1)]: Done   5 out of   5 | elapsed:   50.6s finished\n"
     ]
    }
   ],
   "source": [
    "model = vcl_m\n",
    "score = f1_cv(model, X, y)\n",
    "print(\"\\nF1 score: {:.4f} STD:({:.4f})\\n\".format(score.mean(), score.std()))  #6948 0087"
   ]
  },
  {
   "cell_type": "markdown",
   "metadata": {},
   "source": [
    "## mlxtnd"
   ]
  },
  {
   "cell_type": "code",
   "execution_count": null,
   "metadata": {},
   "outputs": [],
   "source": [
    "from mlxtend.classifier import EnsembleVoteClassifier\n",
    "import copy\n",
    "\n",
    "\n",
    "\n",
    "clfs  =  [ lgb_m,  abc_m,  knn_m]  #rfc_m, xgb_m, gbc_m,\n",
    "weights = [ 0.45,   0.35,   0.20]  # 0.10, 0.05, 0.10,\n",
    "\n",
    "eclf_m = EnsembleVoteClassifier(clfs=clfs, voting = 'soft', weights=weights)#   , weights=weights\n",
    "\n",
    "#labels = ['xgb', 'lgb', 'rfc']"
   ]
  },
  {
   "cell_type": "code",
   "execution_count": null,
   "metadata": {},
   "outputs": [],
   "source": [
    "eclf_m.fit(X_train1, y_train1)\n",
    "eclf_prediction = eclf_m.predict(X_val1)\n",
    "print(f1_score(y_val1, eclf_prediction, average = 'micro')) #"
   ]
  },
  {
   "cell_type": "code",
   "execution_count": null,
   "metadata": {},
   "outputs": [],
   "source": [
    "model = eclf_m\n",
    "score = f1_cv(model, X_pred1, y)\n",
    "print(\"\\nF1 score: {:.4f} +/-:({:.4f})\\n\".format(score.mean(), score.std()))"
   ]
  },
  {
   "cell_type": "markdown",
   "metadata": {},
   "source": [
    "### Weight Function"
   ]
  },
  {
   "cell_type": "code",
   "execution_count": null,
   "metadata": {},
   "outputs": [],
   "source": [
    "kaggle_score = pd.DataFrame()\n",
    "\n",
    "kaggle_score['Score'] = [.6940, .6940, .6946, .6946, .6943] #\n",
    "#print(kaggle_score)\n",
    "\n",
    "scaler = MinMaxScaler(feature_range=(0.1, .99))\n",
    "scaler.fit(kaggle_score)\n",
    "#scaler.transform(kaggle_score)\n",
    "\n",
    "kaggle_min_max = scaler.fit_transform(kaggle_score)\n",
    "#print(kaggle_min_max)\n",
    "kaggle_score['min_max']= kaggle_min_max\n",
    "kaggle_score['Model'] = ['xgb','lgb2','rfc','knn', 'gbc'] #\n",
    "kaggle_score['weight']= (kaggle_score['min_max']/(kaggle_score['min_max'].sum(axis = 0)))*100\n",
    "print(kaggle_score)"
   ]
  },
  {
   "cell_type": "markdown",
   "metadata": {},
   "source": [
    "### Predictions"
   ]
  },
  {
   "cell_type": "code",
   "execution_count": 350,
   "metadata": {},
   "outputs": [
    {
     "name": "stderr",
     "output_type": "stream",
     "text": [
      "C:\\Users\\user\\Anaconda3\\lib\\site-packages\\sklearn\\preprocessing\\label.py:151: DeprecationWarning: The truth value of an empty array is ambiguous. Returning False, but in future this will result in an error. Use `array.size > 0` to check that an array is not empty.\n",
      "  if diff:\n",
      "C:\\Users\\user\\Anaconda3\\lib\\site-packages\\sklearn\\preprocessing\\label.py:151: DeprecationWarning: The truth value of an empty array is ambiguous. Returning False, but in future this will result in an error. Use `array.size > 0` to check that an array is not empty.\n",
      "  if diff:\n"
     ]
    }
   ],
   "source": [
    "vcl_m.fit(X, y)\n",
    "vcl_pred = vcl_m.predict(test)"
   ]
  },
  {
   "cell_type": "code",
   "execution_count": null,
   "metadata": {},
   "outputs": [],
   "source": [
    "bag_m.fit(X, y)\n",
    "bag_pred = bag_m.predict(test)"
   ]
  },
  {
   "cell_type": "code",
   "execution_count": null,
   "metadata": {},
   "outputs": [],
   "source": [
    "log_m.fit(X, y)\n",
    "log_pred = log_m.predict(test)"
   ]
  },
  {
   "cell_type": "code",
   "execution_count": null,
   "metadata": {},
   "outputs": [],
   "source": [
    "abc_m.fit(X, y)\n",
    "abc_pred = abc_m.predict(test)"
   ]
  },
  {
   "cell_type": "code",
   "execution_count": null,
   "metadata": {},
   "outputs": [],
   "source": [
    "catc_m.fit(X, y)\n",
    "catc_pred = catc_m.predict(test)"
   ]
  },
  {
   "cell_type": "code",
   "execution_count": null,
   "metadata": {},
   "outputs": [],
   "source": [
    "cat_m.fit(X, y)\n",
    "cat_pred = cat_m.predict(test)"
   ]
  },
  {
   "cell_type": "code",
   "execution_count": 314,
   "metadata": {},
   "outputs": [
    {
     "name": "stderr",
     "output_type": "stream",
     "text": [
      "C:\\Users\\user\\Anaconda3\\lib\\site-packages\\sklearn\\preprocessing\\label.py:151: DeprecationWarning: The truth value of an empty array is ambiguous. Returning False, but in future this will result in an error. Use `array.size > 0` to check that an array is not empty.\n",
      "  if diff:\n"
     ]
    }
   ],
   "source": [
    "lgb2_m.fit(X, y)\n",
    "lgb2_pred = lgb2_m.predict(test)"
   ]
  },
  {
   "cell_type": "code",
   "execution_count": null,
   "metadata": {},
   "outputs": [],
   "source": [
    "xgb_m.fit(X, y)\n",
    "xgb_pred = xgb_m.predict(test)"
   ]
  },
  {
   "cell_type": "code",
   "execution_count": null,
   "metadata": {},
   "outputs": [],
   "source": [
    "rfc_m.fit(X, y)\n",
    "rfc_pred = rfc_m.predict(test)"
   ]
  },
  {
   "cell_type": "markdown",
   "metadata": {},
   "source": [
    "## Prediction only preds"
   ]
  },
  {
   "cell_type": "code",
   "execution_count": null,
   "metadata": {},
   "outputs": [],
   "source": [
    "print(X_pred1.shape, test_pred1.shape)"
   ]
  },
  {
   "cell_type": "code",
   "execution_count": null,
   "metadata": {},
   "outputs": [],
   "source": [
    "eclf_m.fit(X_pred1, y)\n",
    "eclf_pred = eclf_m.predict(test_pred1)"
   ]
  },
  {
   "cell_type": "code",
   "execution_count": null,
   "metadata": {},
   "outputs": [],
   "source": [
    "catc_m.fit(X_pred1, y)\n",
    "catc_pred = catc_m.predict(test_pred1)"
   ]
  },
  {
   "cell_type": "code",
   "execution_count": null,
   "metadata": {},
   "outputs": [],
   "source": [
    "cat_m.fit(X_pred1, y)\n",
    "cat_pred = cat_m.predict(test_pred1)"
   ]
  },
  {
   "cell_type": "code",
   "execution_count": null,
   "metadata": {},
   "outputs": [],
   "source": [
    "lgb_m.fit(X_pred1, y)\n",
    "lgb_pred = lgb_m.predict(test_pred1)"
   ]
  },
  {
   "cell_type": "code",
   "execution_count": null,
   "metadata": {},
   "outputs": [],
   "source": [
    "xgb_m.fit(X_pred1, y)\n",
    "xgb_pred = xgb_m.predict(test_pred1)"
   ]
  },
  {
   "cell_type": "code",
   "execution_count": null,
   "metadata": {},
   "outputs": [],
   "source": [
    "rfc_m.fit(X_pred1, y)\n",
    "rfc_pred = rfc_m.predict(test_pred1)"
   ]
  },
  {
   "cell_type": "code",
   "execution_count": null,
   "metadata": {},
   "outputs": [],
   "source": []
  },
  {
   "cell_type": "code",
   "execution_count": null,
   "metadata": {},
   "outputs": [],
   "source": [
    "test_id = pd.read_feather(r'C:\\Users\\user\\Desktop\\Microsoft Cert\\CAPSTONE\\feathers\\test_1.feather')\n",
    "test['building_id'] = test_id['building_id']"
   ]
  },
  {
   "cell_type": "markdown",
   "metadata": {},
   "source": [
    "### Submission"
   ]
  },
  {
   "cell_type": "code",
   "execution_count": 351,
   "metadata": {},
   "outputs": [],
   "source": [
    "sub_1 = pd.DataFrame()\n",
    "sub_1['Id'] = test_orig['building_id']\n",
    "sub_1['damage_grade'] = vcl_pred.astype(np.int64)\n",
    "sub_1.to_csv('submission_26.csv',index=False)"
   ]
  },
  {
   "cell_type": "code",
   "execution_count": null,
   "metadata": {},
   "outputs": [],
   "source": []
  }
 ],
 "metadata": {
  "kernelspec": {
   "display_name": "Python 3",
   "language": "python",
   "name": "python3"
  },
  "language_info": {
   "codemirror_mode": {
    "name": "ipython",
    "version": 3
   },
   "file_extension": ".py",
   "mimetype": "text/x-python",
   "name": "python",
   "nbconvert_exporter": "python",
   "pygments_lexer": "ipython3",
   "version": "3.7.1"
  }
 },
 "nbformat": 4,
 "nbformat_minor": 2
}
